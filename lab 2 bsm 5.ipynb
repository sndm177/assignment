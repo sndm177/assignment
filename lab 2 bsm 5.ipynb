{
 "cells": [
  {
   "cell_type": "code",
   "execution_count": 4,
   "id": "294025e7",
   "metadata": {},
   "outputs": [],
   "source": [
    "#Q1.Explain each code in detail by adding comments in each line."
   ]
  },
  {
   "cell_type": "code",
   "execution_count": null,
   "id": "18fd9df9",
   "metadata": {},
   "outputs": [],
   "source": [
    "# guess1 = 2, guess2 = 3\n",
    "from math import sin\n",
    "def bisection(x0,x1,e): #defining bisection method\n",
    "    step = 1 #starting no. of iteration\n",
    "    condition = True #condition statement which is true\n",
    "    while condition: #while loop, it is true and will be executed\n",
    "        x2 = (x0+x1)/2 #Bisection method formula (first iteration value)\n",
    "        print('iteration %d, x2 = %0.6f and f(x2)= %0.6f' %(step,x2,f(x2)))\n",
    "        \n",
    "        if f(x0) * f(x2) < 0: #condition to apply bisection method,product of 2 points less than 0\n",
    "            x1 = x2 #if condition is satisfied x2 will be the new x1\n",
    "        else:\n",
    "            x0 = x2 # if not then x0 is replaced by x2\n",
    "        step = step +1 #increasing no. of iterations\n",
    "        condition = abs(f(x2)) > e #iteration should be continue untill this consition is false\n",
    "    print('root is :%0.8f '%x2)\n",
    "#    return x2 #if the above condition is ture then return to x2\n",
    "\n",
    "def f(x):  #defining the function\n",
    "    return x**3-5*x-9 #function \n",
    "\n",
    "x0 = float(input('first guess: ')) #input from the user\n",
    "x1 = float(input('second guess: ')) #input 2\n",
    "e  = float(input('tolerance: ')) # input 3\n",
    "\n",
    "if f(x0) * f(x1) > 0.0: #applying if condition\n",
    "    print('given guess values do not bracket the root') #if true than print, means both roots are positive\n",
    "else:\n",
    "    root = bisection(x0,x1,e) # if false then give another value an move to bisection method\n"
   ]
  },
  {
   "cell_type": "code",
   "execution_count": null,
   "id": "555a1332",
   "metadata": {},
   "outputs": [],
   "source": [
    "from math import sin\n",
    "def newton(fn,dfn,x,tol,maxiter): #defining newton raphson method\n",
    "    for i in range(maxiter): #using for loop to start the iteration till maxiter \n",
    "        xnew = x - fn(x)/dfn(x) #newton raphson formula\n",
    "        if abs(xnew-x)<tol:     #error less than tolerance               \n",
    "            break #if the above condiiton is satisfied then break the program\n",
    "        x = xnew #then x is the xnew\n",
    "    return xnew, i #return xnew and i (the number of iterations)\n",
    "\n",
    "y = lambda x: 2*x**3-9.5*x+7.5 #function\n",
    "dy = lambda x : 6*x**2-9.5 #derivative of a fucntion\n",
    "\n",
    "x, n = newton(y, dy, 5, 0.0001, 100) #calling the function \n",
    "print('the root is %.3f at %d iterations.'%(x,n)) "
   ]
  },
  {
   "cell_type": "code",
   "execution_count": 62,
   "id": "c62d3de2",
   "metadata": {},
   "outputs": [
    {
     "name": "stdout",
     "output_type": "stream",
     "text": [
      "enter x1: 0\n",
      "enter x2: 1\n",
      "The root = 0.250324 at 4 false position\n"
     ]
    }
   ],
   "source": [
    "from math import sin\n",
    "def reg_falsi(f,x1,x2,tol=1.0e-6,maxfpos=100): #defining regula falsi method\n",
    "    \n",
    "    if f(x1) * f(x2)<0: #condition that functional value of x1 and x2 should be less than 0\n",
    "        for fpos in range(1,maxfpos+1): #starting no. of iterations if above is true from 1 \n",
    "            xh = x2 - (x2-x1)/(f(x2)-f(x1)) * f(x2) #regula falsi method formula\n",
    "            if abs(f(xh)) < tol: #defining error, error must be less than tolerance\n",
    "                break # if the above is true then break\n",
    "            elif f(x1) * f(xh) < 0: #if false then check \n",
    "                x2 = xh #replace x2 with xh\n",
    "            else:\n",
    "                x1 = xh #or replace x1 with xh\n",
    "    else:\n",
    "        print('No roots exists within the given interval') #if both not true then print this\n",
    "        \n",
    "    return xh, fpos #return the value of xh and fpos\n",
    "\n",
    "y = lambda x: x**2 - sin(x)**2 - 4*x + 1 #function\n",
    "\n",
    "x1 = float(input('enter x1: ')) #input x1\n",
    "x2 = float(input('enter x2: '))#input x2\n",
    "\n",
    "r, n = reg_falsi(y,x1,x2) #\n",
    "print('The root = %f at %d false position'%(r,n)) #printing the results"
   ]
  },
  {
   "cell_type": "code",
   "execution_count": null,
   "id": "eccec1f0",
   "metadata": {},
   "outputs": [],
   "source": [
    "from math import sin\n",
    "def secant(fn,x1,x2,tol,maxiter): #defining secant \n",
    "    for i in range(maxiter): #starting iterations till maxiter\n",
    "        xnew  = x2 - (x2-x1)/(fn(x2)-fn(x1))*fn(x2) #finding root by secant formula \n",
    "        if abs(xnew-x2) < tol: #if error is less than tolerance \n",
    "            break #then break\n",
    "        else: #is not then go to else statement \n",
    "            x1 = x2 #x1 replaced by x2\n",
    "            x2 = xnew #and xnew replaced by x1\n",
    "    else:\n",
    "        print('warning: Maximum number of iterations is reached') \n",
    "    return xnew, i\n",
    "\n",
    "f = lambda x: 2*x**2 - 5*x + 3 #given function \n",
    "\n",
    "x1 = float(input('enter x1: ')) #input x1 value\n",
    "x2 = float(input('enter x2: ')) #input x2 value\n",
    "\n",
    "r, n = secant(f,x1,x2,1.0e-6,100) #defining root and no. of iterations\n",
    "\n",
    "print('Root = %f at %d iterations'%(r,n)) #print root and no. of iteration"
   ]
  },
  {
   "cell_type": "code",
   "execution_count": null,
   "id": "d55b4993",
   "metadata": {},
   "outputs": [],
   "source": [
    "# Q2. Compare the results of following questions with all methods and also plot the graphs of all functions."
   ]
  },
  {
   "cell_type": "code",
   "execution_count": 76,
   "id": "5e7a8703",
   "metadata": {},
   "outputs": [
    {
     "name": "stdout",
     "output_type": "stream",
     "text": [
      "first guess: 2\n",
      "second guess: 3\n",
      "tolerance: 0.01\n",
      "iteration 1, x2 = 2.500000 and f(x2)= -5.875000\n",
      "iteration 2, x2 = 2.750000 and f(x2)= -1.953125\n",
      "iteration 3, x2 = 2.875000 and f(x2)= 0.388672\n",
      "iteration 4, x2 = 2.812500 and f(x2)= -0.815186\n",
      "iteration 5, x2 = 2.843750 and f(x2)= -0.221588\n",
      "iteration 6, x2 = 2.859375 and f(x2)= 0.081448\n",
      "iteration 7, x2 = 2.851562 and f(x2)= -0.070592\n",
      "iteration 8, x2 = 2.855469 and f(x2)= 0.005297\n",
      "root is :2.85546875 \n"
     ]
    }
   ],
   "source": [
    "# guess1 = 2, guess2 = 3\n",
    "from math import sin\n",
    "def bisection(x0,x1,e): \n",
    "    step = 1\n",
    "    condition = True\n",
    "    while condition:\n",
    "        x2 = (x0+x1)/2\n",
    "        print('iteration %d, x2 = %0.6f and f(x2)= %0.6f' %(step,x2,f(x2)))\n",
    "        \n",
    "        if f(x0) * f(x2) < 0:\n",
    "            x1 = x2\n",
    "        else:\n",
    "            x0 = x2\n",
    "        step = step +1\n",
    "        condition = abs(f(x2)) > e\n",
    "    print('root is :%0.8f '%x2)\n",
    "#    return x2\n",
    "\n",
    "def f(x):\n",
    "    return x**3-5*x-9\n",
    "\n",
    "x0 = float(input('first guess: '))\n",
    "x1 = float(input('second guess: '))\n",
    "e  = float(input('tolerance: '))\n",
    "\n",
    "if f(x0) * f(x1) > 0.0:\n",
    "    print('given guess values do not bracket the root')\n",
    "else:\n",
    "    root = bisection(x0,x1,e)"
   ]
  },
  {
   "cell_type": "code",
   "execution_count": 8,
   "id": "7aa3a978",
   "metadata": {},
   "outputs": [
    {
     "name": "stdout",
     "output_type": "stream",
     "text": [
      "the root is 1.500 at 7 iterations.\n"
     ]
    }
   ],
   "source": [
    "#Newton Raphson Method\n",
    "from math import sin\n",
    "def newton(fn,dfn,x,tol,maxiter):\n",
    "    for i in range(maxiter):\n",
    "        xnew = x - fn(x)/dfn(x)\n",
    "        if abs(xnew-x)<tol:                          \n",
    "            break\n",
    "        x = xnew\n",
    "    return xnew, i\n",
    "\n",
    "y = lambda x: 2*x**3-9.5*x+7.5\n",
    "dy = lambda x : 6*x**2-9.5\n",
    "\n",
    "x, n = newton(y, dy, 5, 0.0001, 100)\n",
    "print('the root is %.3f at %d iterations.'%(x,n))"
   ]
  },
  {
   "cell_type": "code",
   "execution_count": 63,
   "id": "b265141b",
   "metadata": {},
   "outputs": [
    {
     "name": "stdout",
     "output_type": "stream",
     "text": [
      "enter x1: 0\n",
      "enter x2: 1\n",
      "The root = 0.250324 at 4 false position\n"
     ]
    }
   ],
   "source": [
    "#Regula falsi method\n",
    "from math import sin\n",
    "def reg_falsi(f,x1,x2,tol=1.0e-6,maxfpos=100):\n",
    "    \n",
    "    if f(x1) * f(x2)<0:\n",
    "        for fpos in range(1,maxfpos+1):\n",
    "            xh = x2 - (x2-x1)/(f(x2)-f(x1)) * f(x2)\n",
    "            if abs(f(xh)) < tol:\n",
    "                break\n",
    "            elif f(x1) * f(xh) < 0:\n",
    "                x2 = xh\n",
    "            else:\n",
    "                x1 = xh\n",
    "    else:\n",
    "        print('No roots exists within the given interval')\n",
    "        \n",
    "    return xh, fpos\n",
    "\n",
    "y = lambda x: x**2 - sin(x)**2 - 4*x + 1\n",
    "\n",
    "x1 = float(input('enter x1: '))\n",
    "x2 = float(input('enter x2: '))\n",
    "\n",
    "r, n = reg_falsi(y,x1,x2)\n",
    "print('The root = %f at %d false position'%(r,n))"
   ]
  },
  {
   "cell_type": "code",
   "execution_count": 64,
   "id": "3a812e4e",
   "metadata": {},
   "outputs": [
    {
     "name": "stdout",
     "output_type": "stream",
     "text": [
      "enter x1: -2\n",
      "enter x2: 2\n",
      "Root = 1.500000 at 8 iterations\n"
     ]
    }
   ],
   "source": [
    "#secant method\n",
    "from math import sin\n",
    "def secant(fn,x1,x2,tol,maxiter):\n",
    "    for i in range(maxiter):\n",
    "        xnew  = x2 - (x2-x1)/(fn(x2)-fn(x1))*fn(x2)\n",
    "        if abs(xnew-x2) < tol:\n",
    "            break\n",
    "        else:\n",
    "            x1 = x2\n",
    "            x2 = xnew\n",
    "    else:\n",
    "        print('warning: Maximum number of iterations is reached')\n",
    "    return xnew, i\n",
    "\n",
    "f = lambda x: 2*x**2 - 5*x + 3 \n",
    "\n",
    "x1 = float(input('enter x1: '))\n",
    "x2 = float(input('enter x2: '))\n",
    "\n",
    "r, n = secant(f,x1,x2,1.0e-6,100)\n",
    "\n",
    "print('Root = %f at %d iterations'%(r,n))"
   ]
  },
  {
   "cell_type": "code",
   "execution_count": 13,
   "id": "fe897721",
   "metadata": {},
   "outputs": [],
   "source": [
    "#plotting the graphs of the functions"
   ]
  },
  {
   "cell_type": "code",
   "execution_count": 17,
   "id": "25993342",
   "metadata": {},
   "outputs": [],
   "source": [
    "import matplotlib.pyplot as plt\n",
    "import numpy as np"
   ]
  },
  {
   "cell_type": "code",
   "execution_count": 53,
   "id": "f1dcdeaa",
   "metadata": {},
   "outputs": [],
   "source": [
    "x = np.linspace(-100,100,20)\n",
    "y = x**3-5*x-9 #blue graph\n",
    "z = 2*x**3-9.5*x+7.5 #orange graph"
   ]
  },
  {
   "cell_type": "code",
   "execution_count": 54,
   "id": "ffa49777",
   "metadata": {},
   "outputs": [
    {
     "data": {
      "text/plain": [
       "Text(0, 0.5, 'y-axis')"
      ]
     },
     "execution_count": 54,
     "metadata": {},
     "output_type": "execute_result"
    },
    {
     "data": {
      "image/png": "[encoded data removed]",
      "text/plain": [
       "<Figure size 432x288 with 1 Axes>"
      ]
     },
     "metadata": {
      "needs_background": "light"
     },
     "output_type": "display_data"
    }
   ],
   "source": [
    "plt.plot(x,y,z)\n",
    "plt.grid()\n",
    "plt.xlabel('x-axis',fontsize=15)\n",
    "plt.ylabel('y-axis',fontsize=15) "
   ]
  },
  {
   "cell_type": "code",
   "execution_count": 69,
   "id": "ec548f33",
   "metadata": {},
   "outputs": [
    {
     "ename": "TypeError",
     "evalue": "unsupported operand type(s) for ** or pow(): 'builtin_function_or_method' and 'int'",
     "output_type": "error",
     "traceback": [
      "\u001b[1;31m---------------------------------------------------------------------------\u001b[0m",
      "\u001b[1;31mTypeError\u001b[0m                                 Traceback (most recent call last)",
      "\u001b[1;32m~\\AppData\\Local\\Temp/ipykernel_7700/4088427487.py\u001b[0m in \u001b[0;36m<module>\u001b[1;34m\u001b[0m\n\u001b[0;32m      2\u001b[0m \u001b[0my\u001b[0m \u001b[1;33m=\u001b[0m \u001b[0mnp\u001b[0m\u001b[1;33m.\u001b[0m\u001b[0msin\u001b[0m\u001b[1;33m(\u001b[0m\u001b[0mx\u001b[0m\u001b[1;33m)\u001b[0m\u001b[1;33m\u001b[0m\u001b[1;33m\u001b[0m\u001b[0m\n\u001b[0;32m      3\u001b[0m \u001b[0mz\u001b[0m \u001b[1;33m=\u001b[0m \u001b[1;36m2\u001b[0m\u001b[1;33m*\u001b[0m\u001b[0mx\u001b[0m\u001b[1;33m**\u001b[0m\u001b[1;36m2\u001b[0m\u001b[1;33m-\u001b[0m\u001b[1;36m5\u001b[0m\u001b[1;33m*\u001b[0m\u001b[0mx\u001b[0m\u001b[1;33m+\u001b[0m\u001b[1;36m3\u001b[0m\u001b[1;33m\u001b[0m\u001b[1;33m\u001b[0m\u001b[0m\n\u001b[1;32m----> 4\u001b[1;33m \u001b[0mt\u001b[0m\u001b[1;33m=\u001b[0m \u001b[0mx\u001b[0m\u001b[1;33m**\u001b[0m\u001b[1;36m2\u001b[0m\u001b[1;33m-\u001b[0m\u001b[0msin\u001b[0m\u001b[1;33m**\u001b[0m\u001b[1;36m2\u001b[0m\u001b[1;33m*\u001b[0m\u001b[0mx\u001b[0m\u001b[1;33m-\u001b[0m\u001b[1;36m4\u001b[0m\u001b[1;33m*\u001b[0m\u001b[0mx\u001b[0m\u001b[1;33m+\u001b[0m\u001b[1;36m1\u001b[0m\u001b[1;33m\u001b[0m\u001b[1;33m\u001b[0m\u001b[0m\n\u001b[0m",
      "\u001b[1;31mTypeError\u001b[0m: unsupported operand type(s) for ** or pow(): 'builtin_function_or_method' and 'int'"
     ]
    }
   ],
   "source": [
    "x = np.linspace(-50,100,20)\n",
    "y = np.sin(x)\n",
    "z = 2*x**2-5*x+3\n",
    "t= x**2-sin**2*x-4*x+1"
   ]
  },
  {
   "cell_type": "code",
   "execution_count": 73,
   "id": "cd544584",
   "metadata": {},
   "outputs": [
    {
     "data": {
      "text/plain": [
       "Text(0, 0.5, 'y-axis')"
      ]
     },
     "execution_count": 73,
     "metadata": {},
     "output_type": "execute_result"
    },
    {
     "data": {
      "image/png": "[encoded data removed]",
      "text/plain": [
       "<Figure size 432x288 with 1 Axes>"
      ]
     },
     "metadata": {
      "needs_background": "light"
     },
     "output_type": "display_data"
    }
   ],
   "source": [
    "plt.plot(x,z)\n",
    "plt.grid()\n",
    "plt.xlabel('x-axis',fontsize=15)\n",
    "plt.ylabel('y-axis',fontsize=15) "
   ]
  },
  {
   "cell_type": "code",
   "execution_count": null,
   "id": "553e60ab",
   "metadata": {},
   "outputs": [],
   "source": []
  },
  {
   "cell_type": "code",
   "execution_count": null,
   "id": "f4b1a6eb",
   "metadata": {},
   "outputs": [],
   "source": []
  }
 ],
 "metadata": {
  "kernelspec": {
   "display_name": "Python 3 (ipykernel)",
   "language": "python",
   "name": "python3"
  },
  "language_info": {
   "codemirror_mode": {
    "name": "ipython",
    "version": 3
   },
   "file_extension": ".py",
   "mimetype": "text/x-python",
   "name": "python",
   "nbconvert_exporter": "python",
   "pygments_lexer": "ipython3",
   "version": "3.9.7"
  }
 },
 "nbformat": 4,
 "nbformat_minor": 5
}
